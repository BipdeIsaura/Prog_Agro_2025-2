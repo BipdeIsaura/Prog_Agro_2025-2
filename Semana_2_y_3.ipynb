{
  "nbformat": 4,
  "nbformat_minor": 0,
  "metadata": {
    "colab": {
      "provenance": [],
      "authorship_tag": "ABX9TyOUOwQcIB2KJMAlW+DS6bLN",
      "include_colab_link": true
    },
    "kernelspec": {
      "name": "python3",
      "display_name": "Python 3"
    },
    "language_info": {
      "name": "python"
    }
  },
  "cells": [
    {
      "cell_type": "markdown",
      "metadata": {
        "id": "view-in-github",
        "colab_type": "text"
      },
      "source": [
        "<a href=\"https://colab.research.google.com/github/BipdeIsaura/Prog_Agro_2025-2/blob/main/Semana_2_y_3.ipynb\" target=\"_parent\"><img src=\"https://colab.research.google.com/assets/colab-badge.svg\" alt=\"Open In Colab\"/></a>"
      ]
    },
    {
      "cell_type": "code",
      "execution_count": null,
      "metadata": {
        "id": "llmROOG3ODXB"
      },
      "outputs": [],
      "source": []
    },
    {
      "cell_type": "markdown",
      "source": [
        "#Situación 1: Clasificador de pH del Suelo\n",
        "El pH del suelo es un factor crítico para la absorción de nutrientes por parte de las plantas. Desarrollarás un programa que recibe un valor de pH e informa al agricultor si el suelo es ácido, neutro o alcalino, ofreciendo una recomendación general."
      ],
      "metadata": {
        "id": "FqPhytaxOWKV"
      }
    },
    {
      "cell_type": "code",
      "source": [
        "# Explicar al usuario que el programa clasifica el pH del suelo.\n",
        "print(\"este programa clasifica el ph del suelo.\")\n",
        "\n",
        "# Pedir al usuario que ingrese el valor de pH medido (puede ser decimal).\n",
        "pH = float(input(\"ingrese el valor de pH medido: \"))\n",
        "\n",
        "# Utilizar una estructura 'if' para la primera condición: si el pH es menor que 6.5.\n",
        "if pH < 7:\n",
        "    print(\"El suelo es ácido.\")\n",
        "    # Dentro del 'if', mostrar un mensaje indicando que el suelo es \"Ácido\" y recomendarel uso de cal agrícola.\n",
        "    print(\"Es recomendable usar cal relayed.\")\n",
        "elif pH == 7:\n",
        "    print(\"El suelo es neutro.\")\n",
        "elif pH > 7:\n",
        "    print(\"El suelo es alcalino.\")\n",
        "    print(\"Es recomendable el uso de sulfato.\")"
      ],
      "metadata": {
        "colab": {
          "base_uri": "https://localhost:8080/"
        },
        "id": "xppLfEAuOmae",
        "outputId": "c0b308a4-3792-4a8f-c61e-a67e06aae5fe"
      },
      "execution_count": 5,
      "outputs": [
        {
          "output_type": "stream",
          "name": "stdout",
          "text": [
            "este programa clasifica el ph del suelo.\n",
            "ingrese el valor de pH medido: 7\n",
            "El suelo es neutro.\n"
          ]
        }
      ]
    },
    {
      "cell_type": "markdown",
      "source": [
        "#Situación 2: Simulación de Crecimiento de un Cultivo\n",
        "Un agrónomo quiere simular el crecimiento en altura de una planta durante 5 semanas. La planta crece a una tasa diferente cada semana. El programa debe solicitar la tasa de crecimiento de cada semana y mostrar la altura total al final."
      ],
      "metadata": {
        "id": "_NTVpd_XQMtW"
      }
    },
    {
      "cell_type": "code",
      "source": [
        "# Inicializar una variable para la altura total de la planta en cero.\n",
        "altura = 0\n",
        "# Inicializar una lista para almacenar los crecimientos semanales.\n",
        "crecimientos_semanales = []\n",
        "\n",
        "# Mostrar un mensaje que indique que se simulará el crecimiento durante 5 semanas.\n",
        "print(\" simulacion de crecimiento durante 5 semanas\")\n",
        "\n",
        "# Crear un bucle 'for' que se repita 5 veces (una por cada semana).\n",
        "for semana in range(5):\n",
        "   \"\"\" Dentro del bucle, pedir al usuario el crecimiento de la planta para la semana\n",
        "    actual (ej. \"Ingrese el crecimiento en cm para la semana 1:\").\n",
        "    \"\"\"\n",
        "   crecimiento = float(input(f\"Ingrese el crecimiento en cm para la semana {semana + 1}: \"))\n",
        "\n",
        "   # Almacenar el crecimiento semanal en la lista.\n",
        "   crecimientos_semanales.append(crecimiento)\n",
        "\n",
        "   # Actualizar la altura total de la planta sumándole el crecimiento de la semana actual.\n",
        "   altura += crecimiento\n",
        "\n",
        "# Después de que el bucle termine, mostrar la altura total acumulada de la planta.\n",
        "print(f\"La altura total de la plantta despues de 5 semanas es de {altura} cm.\")\n",
        "\n",
        "# Mostrar los crecimientos semanales almacenados.\n",
        "print(f\"Crecimientos semanales: {crecimientos_semanales}\")"
      ],
      "metadata": {
        "colab": {
          "base_uri": "https://localhost:8080/"
        },
        "id": "eb7uKL6cQUhC",
        "outputId": "35b8763b-c539-4956-aa36-e3c517966720"
      },
      "execution_count": 6,
      "outputs": [
        {
          "output_type": "stream",
          "name": "stdout",
          "text": [
            " simulacion de crecimiento durante 5 semanas\n",
            "Ingrese el crecimiento en cm para la semana 1: 11\n",
            "Ingrese el crecimiento en cm para la semana 2: 12\n",
            "Ingrese el crecimiento en cm para la semana 3: 21\n",
            "Ingrese el crecimiento en cm para la semana 4: 23\n",
            "Ingrese el crecimiento en cm para la semana 5: 31\n",
            "La altura total de la plantta despues de 5 semanas es de 98.0 cm.\n",
            "Crecimientos semanales: [11.0, 12.0, 21.0, 23.0, 31.0]\n"
          ]
        }
      ]
    },
    {
      "cell_type": "markdown",
      "source": [
        "# Situación 1: Control de Calidad de un Lote de Leche\n",
        "Una planta procesadora debe verificar si un lote de leche cumple con el estándar de acidez (medido en °Dornic). Si la acidez está entre 15 y 18 °D, el lote es aceptado. Si es mayor, se destina a queso; si es menor, se rechaza.\n",
        "\n",
        "1. # Describir el propósito: Programa de control de calidad de leche por acidez.\n",
        "2. # Pedir al operario que ingrese el valor de acidez en grados Dornic.\n",
        "3. # Guardar el valor en una variable.\n",
        "4. # Escribir una condición 'if' que verifique si la acidez es mayor a 18.\n",
        "5. # Si se cumple, imprimir \"Lote destinado para producción de queso\".\n",
        "6. # Usar 'elif' para verificar si la acidez es menor a 15.\n",
        "7. # Si se cumple, imprimir \"Lote RECHAZADO por baja acidez\".\n",
        "8. # Usar 'else' para capturar el caso en que la acidez está en el rango aceptable.\n",
        "9. # Si no se cumplen las condiciones anteriores, imprimir \"Lote ACEPTADO para pasteurización\"."
      ],
      "metadata": {
        "id": "tLBifhdrT6YN"
      }
    },
    {
      "cell_type": "code",
      "source": [],
      "metadata": {
        "id": "VOs9zogCUvcK"
      },
      "execution_count": null,
      "outputs": []
    },
    {
      "cell_type": "code",
      "metadata": {
        "colab": {
          "base_uri": "https://localhost:8080/"
        },
        "id": "acf56009",
        "outputId": "aae2d68f-9bd8-4a67-a955-efa304d4c4ce"
      },
      "source": [
        "# 1. Describir el propósito: Programa de control de calidad de leche por acidez.\n",
        "print(\"Programa de control de calidad de leche basado en la acidez.\")\n",
        "\n",
        "# 2. Pedir al operario que ingrese el valor de acidez en grados Dornic.\n",
        "# 3. Guardar el valor en una variable.\n",
        "acidez_dornic = float(input(\"Ingrese el valor de acidez en grados Dornic: \"))\n",
        "\n",
        "# 4. Escribir una condición 'if' que verifique si la acidez es mayor a 18.\n",
        "if acidez_dornic > 18:\n",
        "    # 5. Si se cumple, imprimir \"Lote destinado para producción de queso\".\n",
        "    print(\"Lote destinado para producción de queso.\")\n",
        "# 6. Usar 'elif' para verificar si la acidez es menor a 15.\n",
        "elif acidez_dornic < 15:\n",
        "    # 7. Si se cumple, imprimir \"Lote RECHAZADO por baja acidez\".\n",
        "    print(\"Lote RECHAZADO por baja acidez.\")\n",
        "# 8. Usar 'else' para capturar el caso en que la acidez está en el rango aceptable.\n",
        "else:\n",
        "    # 9. Si no se cumplen las condiciones anteriores, imprimir \"Lote ACEPTADO para pasteurización\".\n",
        "    print(\"Lote ACEPTADO para pasteurización.\")"
      ],
      "execution_count": 8,
      "outputs": [
        {
          "output_type": "stream",
          "name": "stdout",
          "text": [
            "Programa de control de calidad de leche basado en la acidez.\n",
            "Ingrese el valor de acidez en grados Dornic: 14\n",
            "Lote RECHAZADO por baja acidez.\n"
          ]
        }
      ]
    }
  ]
}