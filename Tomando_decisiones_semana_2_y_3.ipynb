{
  "nbformat": 4,
  "nbformat_minor": 0,
  "metadata": {
    "colab": {
      "provenance": [],
      "authorship_tag": "ABX9TyP58pPm2U44ZUSrOG459m7e",
      "include_colab_link": true
    },
    "kernelspec": {
      "name": "python3",
      "display_name": "Python 3"
    },
    "language_info": {
      "name": "python"
    }
  },
  "cells": [
    {
      "cell_type": "markdown",
      "metadata": {
        "id": "view-in-github",
        "colab_type": "text"
      },
      "source": [
        "<a href=\"https://colab.research.google.com/github/BipdeIsaura/Prog_Agro_2025-2/blob/main/Tomando_decisiones_semana_2_y_3.ipynb\" target=\"_parent\"><img src=\"https://colab.research.google.com/assets/colab-badge.svg\" alt=\"Open In Colab\"/></a>"
      ]
    },
    {
      "cell_type": "markdown",
      "source": [
        "#"
      ],
      "metadata": {
        "id": "n4XXgN_NHlBM"
      }
    },
    {
      "cell_type": "markdown",
      "source": [
        "#Situación de Interés en Ingeniería Agrícola\n",
        " Se está diseñando el software para un sistema de riego “inteligente”. El programa debe leer el nivel de humedad actual del suelo (un valor de 0 a 100) y decidir qué acción tomar: no hacer nada, aplicar un riego ligero o aplicar un riego profundo, según umbrales predefinidos.\n"
      ],
      "metadata": {
        "id": "oJ5Sd_4dIMS-"
      }
    },
    {
      "cell_type": "code",
      "source": [
        "# Caso de Ingeniería Agrícola: Lógica de Riego Inteligente (if/elif/else)\n",
        "# Definir los umbrales de humedad\n",
        "# (ej. por debajo de 30% es seco, entre 30% y 70% es óptimo, por encima de 70% es saturado).\n",
        "\n",
        "# Pedir al usuario el nivel de humedad actual.\n",
        "humedad_actual = float(input(\"Ingrese el nivel de humedad actual (en porcentaje): \"))\n",
        "if humedad_actual < 30:\n",
        "    print(\"El suelo está seco. Aplicar riego ligero.\")\n",
        "elif humedad_actual >= 30 and humedad_actual <= 70:\n",
        "    print(\"El suelo está óptimo. No es necesario riego.\")\n",
        "else:\n",
        "    print(\"El suelo está saturado. es nesesario aplicar drenaje.\")"
      ],
      "metadata": {
        "colab": {
          "base_uri": "https://localhost:8080/"
        },
        "id": "G_ihrA-EIq9S",
        "outputId": "01ff47fb-8dc3-4336-fe8d-ed3145b5da90"
      },
      "execution_count": 3,
      "outputs": [
        {
          "output_type": "stream",
          "name": "stdout",
          "text": [
            "Ingrese el nivel de humedad actual (en porcentaje): 100\n",
            "El suelo está saturado. es nesesario aplicar drenaje.\n"
          ]
        }
      ]
    },
    {
      "cell_type": "markdown",
      "source": [
        "#Situación de Interés en Ingeniería Agroindustrial\n",
        "En una línea de empaque de frutas, un sensor mide el peso de cada fruta.\n",
        "Se necesita un programa que analice una lista de pesos de un lote y cuente\n",
        "cuántas frutas cumplen con el estándar de “Exportación” (ej. > 250g), > > cuántas son de “Mercado Nacional” (entre 150g y 250g) y cuántas se consideran “Rechazo” (< 150g)."
      ],
      "metadata": {
        "id": "i4CVItKGL6wQ"
      }
    },
    {
      "cell_type": "code",
      "source": [
        "# Clasificación de Lote (for loop)\n",
        "# Definir una lista con los pesos de las frutas del lote (para simular los datos del sensor).\n",
        "pesos = [100, 95, 150, 250, 300, 280, 300, 123, 111, 213, 400, 350, 456]\n",
        "\n",
        "# Inicializar tres contadores en cero: exportacion, nacional y rechazo.\n",
        "expotartacion = 0\n",
        "nacional = 0\n",
        "rechazo = 0\n",
        "\n",
        "# recorrer la lista de pesos y clasificar cada fruta\n",
        "for peso in pesos:\n",
        "    if peso > 250:\n",
        "        expotartacion += 1\n",
        "    elif peso >= 150 and peso <= 250:\n",
        "        nacional += 1\n",
        "    else:\n",
        "        rechazo += 1\n",
        "\n",
        "# Después de que el bucle termine, imprimir los totales de cada categoría.\n",
        "print(\"Frutas de Exportación:\", expotartacion)\n",
        "print(\"Frutas de Mercado Nacional:\", nacional)\n",
        "print(\"Frutas Rechazadas:\", rechazo)"
      ],
      "metadata": {
        "colab": {
          "base_uri": "https://localhost:8080/"
        },
        "id": "kv6bgQtyMogI",
        "outputId": "42807481-1fc0-4052-b5e0-98fd9e0d39ca"
      },
      "execution_count": 4,
      "outputs": [
        {
          "output_type": "stream",
          "name": "stdout",
          "text": [
            "Frutas de Exportación: 6\n",
            "Frutas de Mercado Nacional: 3\n",
            "Frutas Rechazadas: 4\n"
          ]
        }
      ]
    }
  ]
}