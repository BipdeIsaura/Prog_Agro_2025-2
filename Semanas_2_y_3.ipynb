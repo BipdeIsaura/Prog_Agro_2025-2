{
  "nbformat": 4,
  "nbformat_minor": 0,
  "metadata": {
    "colab": {
      "provenance": [],
      "authorship_tag": "ABX9TyMLxoIOvgTB+oKJF3luFwBl",
      "include_colab_link": true
    },
    "kernelspec": {
      "name": "python3",
      "display_name": "Python 3"
    },
    "language_info": {
      "name": "python"
    }
  },
  "cells": [
    {
      "cell_type": "markdown",
      "metadata": {
        "id": "view-in-github",
        "colab_type": "text"
      },
      "source": [
        "<a href=\"https://colab.research.google.com/github/justorfc/Prog_Agro_2025_2/blob/main/Semanas_2_y_3.ipynb\" target=\"_parent\"><img src=\"https://colab.research.google.com/assets/colab-badge.svg\" alt=\"Open In Colab\"/></a>"
      ]
    },
    {
      "cell_type": "markdown",
      "source": [
        "#  Situación 1: Clasificador de pH del Suelo\n",
        "\n",
        "El pH del suelo es un factor crítico para la absorción de\n",
        " nutrientes por parte de las plantas. Desarrollarás un programa que recibe un valor de pH e informa al agricultor si el suelo es ácido, neutro o alcalino, ofreciendo una recomendación general."
      ],
      "metadata": {
        "id": "QgqNmguLsW21"
      }
    },
    {
      "cell_type": "code",
      "execution_count": 3,
      "metadata": {
        "colab": {
          "base_uri": "https://localhost:8080/"
        },
        "id": "t2r_kR-QsDi-",
        "outputId": "4cb80da3-e07e-4667-9a41-3ced318eaf09"
      },
      "outputs": [
        {
          "output_type": "stream",
          "name": "stdout",
          "text": [
            "Este programa clasifica el pH del suelo.\n",
            "Ingrese el valor del pH: 8\n",
            "El suelo es alcalino.\n",
            "Recomendamos el uso de sulfato.\n"
          ]
        }
      ],
      "source": [
        "# Explicar al usuario que el programa clasifica el pH del suelo\n",
        "print(\"Este programa clasifica el pH del suelo.\")\n",
        "\n",
        "# Pedir al usuario que ingrese el valor de pH medido (puede ser decimal).\n",
        "ph = float(input(\"Ingrese el valor del pH: \"))\n",
        "\n",
        "# Utilizar una estructura 'if' para la primera condición: si el pH es menor que 6.5.\n",
        "if ph < 7:\n",
        "    print(\"El suelo es ácido.\")\n",
        "    # Dentro del 'if', mostrar un mensaje indicando que el suelo es \"Ácido\" y recomendar el uso de cal agrícola.\n",
        "    print(\"Recomendamos el uso de cal relayed.\")\n",
        "elif ph == 7:\n",
        "    print(\"El suelo es neutro.\")\n",
        "elif ph > 7:\n",
        "    print(\"El suelo es alcalino.\")\n",
        "    print(\"Recomendamos el uso de sulfato.\")\n",
        "\n"
      ]
    },
    {
      "cell_type": "markdown",
      "metadata": {
        "id": "1e7d7ef5"
      },
      "source": [
        "Let's break down the code line by line:\n",
        "\n",
        "1.  `print(\"Este programa clasifica el pH del suelo.\")`: This line prints a welcoming message to the user, explaining the purpose of the program.\n",
        "\n",
        "2.  `ph = float(input(\"Ingrese el valor del pH: \"))`: This line prompts the user to enter the pH value. The `input()` function reads the user's input as a string, and `float()` converts that string into a floating-point number (allowing for decimal values), which is then stored in the variable `ph`.\n",
        "\n",
        "3.  `if ph < 7:`: This is the start of an `if` statement. It checks if the value stored in the `ph` variable is less than 7. If this condition is true, the code block indented below it will be executed.\n",
        "\n",
        "4.  `print(\"El suelo es ácido.\")`: This line is inside the first `if` block. If the pH is less than 7, this line prints a message indicating that the soil is acidic.\n",
        "\n",
        "5.  `print(\"Recomendamos el uso de cal relayed.\")`: This line is also inside the first `if` block. If the soil is acidic, this line provides a recommendation to use \"cal relayed\".\n",
        "\n",
        "6.  `elif ph == 7:`: This is an `elif` (else if) statement. It's checked only if the previous `if` condition (`ph < 7`) was false. This line checks if the value of `ph` is exactly equal to 7. If this condition is true, the code block indented below it will be executed.\n",
        "\n",
        "7.  `print(\"El suelo es neutro.\")`: This line is inside the `elif ph == 7:` block. If the pH is exactly 7, this line prints a message indicating that the soil is neutral.\n",
        "\n",
        "8.  `elif ph > 7:`: This is another `elif` statement. It's checked only if the previous `if` (`ph < 7`) and `elif` (`ph == 7`) conditions were false. This line checks if the value of `ph` is greater than 7. If this condition is true, the code block indented below it will be executed.\n",
        "\n",
        "9.  `print(\"El suelo es alcalino.\")`: This line is inside the `elif ph > 7:` block. If the pH is greater than 7, this line prints a message indicating that the soil is alkaline.\n",
        "\n",
        "10. `print(\"Recomendamos el uso de sulfato.\")`: This line is also inside the `elif ph > 7:` block. If the soil is alkaline, this line recommends the use of \"sulfato\".\n",
        "\n",
        "In summary, the code takes a pH value from the user and, based on whether it's less than 7, equal to 7, or greater than 7, classifies the soil as acidic, neutral, or alkaline, and provides a corresponding recommendation."
      ]
    }
  ]
}